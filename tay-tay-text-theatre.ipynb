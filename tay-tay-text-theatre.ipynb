{
 "cells": [
  {
   "cell_type": "markdown",
   "metadata": {
    "toc": true
   },
   "source": [
    "<h1>Table of Contents<span class=\"tocSkip\"></span></h1>\n",
    "<div class=\"toc\"><ul class=\"toc-item\"><li><span><a href=\"#Tay-tay-Text-Theatre\" data-toc-modified-id=\"Tay-tay-Text-Theatre-1\">Tay-tay Text Theatre</a></span><ul class=\"toc-item\"><li><span><a href=\"#Measuring-repetitiveness?\" data-toc-modified-id=\"Measuring-repetitiveness?-1.1\">Measuring repetitiveness?</a></span></li><li><span><a href=\"#Repetitiveness-≈-compressibility?\" data-toc-modified-id=\"Repetitiveness-≈-compressibility?-1.2\">Repetitiveness ≈ compressibility?</a></span></li><li><span><a href=\"#Imports\" data-toc-modified-id=\"Imports-1.3\">Imports</a></span></li></ul></li><li><span><a href=\"#DS-Process\" data-toc-modified-id=\"DS-Process-2\">DS Process</a></span><ul class=\"toc-item\"><li><span><a href=\"#Gather-Data\" data-toc-modified-id=\"Gather-Data-2.1\">Gather Data</a></span></li><li><span><a href=\"#Assess\" data-toc-modified-id=\"Assess-2.2\">Assess</a></span></li><li><span><a href=\"#Clean\" data-toc-modified-id=\"Clean-2.3\">Clean</a></span></li><li><span><a href=\"#Analyze\" data-toc-modified-id=\"Analyze-2.4\">Analyze</a></span></li><li><span><a href=\"#Feature-Engineering\" data-toc-modified-id=\"Feature-Engineering-2.5\">Feature Engineering</a></span></li><li><span><a href=\"#Model\" data-toc-modified-id=\"Model-2.6\">Model</a></span></li><li><span><a href=\"#Visualize\" data-toc-modified-id=\"Visualize-2.7\">Visualize</a></span></li></ul></li></ul></div>"
   ]
  },
  {
   "cell_type": "markdown",
   "metadata": {},
   "source": [
    "# Tay-tay Text Theatre"
   ]
  },
  {
   "cell_type": "markdown",
   "metadata": {},
   "source": [
    "Inspired by <a href='https://youtu.be/_tjFwcmHy5M'>this</a> Ted Talk by Colin Morris titled **Pop Music is Stuck on Repeat** I was interested in whether Taylor Swifts' songs have become more repetitive using <a href='https://www.kaggle.com/PromptCloudHQ/taylor-swift-song-lyrics-from-all-the-albums'>this</a> Kaggle dataset containing all of Taylor Swifts song lyrics. The accomanaying blog post can be found <a href='https://pudding.cool/2017/05/song-repetition/'>here</a>."
   ]
  },
  {
   "cell_type": "markdown",
   "metadata": {},
   "source": [
    "<img src=\"https://www.billboard.com/files/styles/article_main_image/public/media/taylor-swift-shake-it-off-video-2-2014-billboard-650.jpg\"/>"
   ]
  },
  {
   "cell_type": "markdown",
   "metadata": {},
   "source": [
    "## Measuring repetitiveness?"
   ]
  },
  {
   "cell_type": "markdown",
   "metadata": {},
   "source": [
    "Colin was interested in whether pop music has gotten more repetitive over time and he looked at the lyrics in pop songs to quantify this repetitiveness. He argued that it is easy for a human to identify a repetitive song, but translating that intuition into a number isn't easy. One thing he tried was to look at the number of unique words in a song, as a fraction of the total number of words. But this metric would call the following lyric excerpts equally repetitive:\n",
    "\n",
    "<div class=\"prose-pull-quote\">\n",
    "  <div class=\"row flex-box\">\n",
    "      <div class=\"col-xs-5\">\n",
    "          <blockquote>\n",
    "          <p>baby I don't need dollar bills to have fun tonight<br>\n",
    "          I love cheap thrills<br>\n",
    "          baby I don't need dollar bills to have fun tonight<br>\n",
    "          I love cheap thrills<br>\n",
    "          I don't need no money<br>\n",
    "          as long as I can feel the beat<br>\n",
    "          I don't need no money<br>\n",
    "          as long as I keep dancing</p>\n",
    "          <p class=\"block-cite\"><cite>~ Sia, Cheap Thrills</cite></p>\n",
    "          </blockquote>\n",
    "      </div>\n",
    "      <div class=\"col-xs-5\">\n",
    "          <blockquote><p>tonight I need dollar bills<br>\n",
    "          I don't keep fun<br>\n",
    "          cheap thrills long to feel money<br>\n",
    "          the bills don't need the dancing baby<br>\n",
    "          fun dollar dancing thrills the baby I need<br>\n",
    "          don't have fun<br>\n",
    "          no no don't have dancing fun tonight<br>\n",
    "          beat the can as I don't feel thrills<br>\n",
    "          love the dancing money</p>\n",
    "          <p class=\"block-cite\"><cite>~ Colin Morris, Original composition</cite></p>\n",
    "          </blockquote>\n",
    "      </div>\n",
    "  </div>\n",
    "</div>\n",
    "    \n",
    "These are both 52 words long and use the same 23 word vocabulary, but the first one is clearly more repetitive, because it arranges words in a predictable, repetitive order."
   ]
  },
  {
   "cell_type": "markdown",
   "metadata": {},
   "source": [
    "## Repetitiveness ≈ compressibility?"
   ]
  },
  {
   "cell_type": "markdown",
   "metadata": {},
   "source": [
    "\n",
    "You may not have heard of the Lempel-Ziv algorithm, but you probably use it every day. It's a lossless compression algorithm that powers gifs, pngs, and most archive formats (zip, gzip, rar...).\n",
    "\n",
    "What does this have to do with pop music? The Lempel-Ziv algorithm works by exploiting repeated sequences. How efficiently LZ can compress a text is directly related to the number and length of the repeated sections in that text.\n",
    "\n",
    "<ul class=\"prose\">\n",
    "\n",
    "<li>\n",
    "Size reduction is calculated by counting matches (i.e. the blue circles) as taking up the same space as 3 characters. For example, replacing a string of length 4 saves 1 character, replacing a length 10 string saves 7 characters etc. A typical implementation of LZ encodes a match as an 8-bit length and a 15-bit distance, so 3 bytes is pretty realistic. (A compressor optimized for pop songs would likely use fewer bits for distance, given that songs are usually shorter than 2<sup>15</sup> characters in total.)\n",
    "</li>\n",
    "\n",
    "<li>\n",
    "The compressions shown here were generated by <a href=\"https://github.com/google/zopfli\">zopfli</a>, which is similar to gzip but produces slightly more efficient compressions (at the cost of speed).\n",
    "</li>\n",
    "\n",
    "<li>\n",
    "In real applications (like gzip) the output of the LZ algorithm is usually further compressed using Huffman coding - this combo is embodied in the <a href=\"https://en.wikipedia.org/wiki/DEFLATE\">DEFLATE</a> algorithm/format. That step isn't illustrated here, and isn't taken into account when calculating the size reduction. (I wanted to use compressibility as a proxy for measuring lyrical repetitiveness. The LZ algorithm has a clear connection with repeated words and phrases, but Huffman coding does not - it exploits differences in character frequencies.) I used <a href=\"https://github.com/madler/infgen\">infgen</a> to parse out the pre-Huffman'd data from DEFLATE files generated by zopfli/gzip.\n",
    "</li>\n",
    "\n",
    "</ul>"
   ]
  },
  {
   "cell_type": "markdown",
   "metadata": {},
   "source": [
    "## Imports"
   ]
  },
  {
   "cell_type": "code",
   "execution_count": 15,
   "metadata": {
    "ExecuteTime": {
     "end_time": "2019-07-31T14:58:34.332951Z",
     "start_time": "2019-07-31T14:58:34.328289Z"
    }
   },
   "outputs": [],
   "source": [
    "import pandas as pd\n",
    "import matplotlib.pyplot as plt\n",
    "%matplotlib inline"
   ]
  },
  {
   "cell_type": "markdown",
   "metadata": {},
   "source": [
    "# DS Process"
   ]
  },
  {
   "cell_type": "markdown",
   "metadata": {},
   "source": [
    "##  Gather Data"
   ]
  },
  {
   "cell_type": "code",
   "execution_count": 54,
   "metadata": {
    "ExecuteTime": {
     "end_time": "2019-07-31T15:11:41.960953Z",
     "start_time": "2019-07-31T15:11:41.936618Z"
    }
   },
   "outputs": [
    {
     "data": {
      "text/html": [
       "<div>\n",
       "<style scoped>\n",
       "    .dataframe tbody tr th:only-of-type {\n",
       "        vertical-align: middle;\n",
       "    }\n",
       "\n",
       "    .dataframe tbody tr th {\n",
       "        vertical-align: top;\n",
       "    }\n",
       "\n",
       "    .dataframe thead th {\n",
       "        text-align: right;\n",
       "    }\n",
       "</style>\n",
       "<table border=\"1\" class=\"dataframe\">\n",
       "  <thead>\n",
       "    <tr style=\"text-align: right;\">\n",
       "      <th></th>\n",
       "      <th>artist</th>\n",
       "      <th>album</th>\n",
       "      <th>track_title</th>\n",
       "      <th>track_n</th>\n",
       "      <th>lyric</th>\n",
       "      <th>line</th>\n",
       "      <th>year</th>\n",
       "    </tr>\n",
       "  </thead>\n",
       "  <tbody>\n",
       "    <tr>\n",
       "      <th>0</th>\n",
       "      <td>Taylor Swift</td>\n",
       "      <td>Taylor Swift</td>\n",
       "      <td>Tim McGraw</td>\n",
       "      <td>1</td>\n",
       "      <td>He said the way my blue eyes shined</td>\n",
       "      <td>1</td>\n",
       "      <td>2006</td>\n",
       "    </tr>\n",
       "    <tr>\n",
       "      <th>1</th>\n",
       "      <td>Taylor Swift</td>\n",
       "      <td>Taylor Swift</td>\n",
       "      <td>Tim McGraw</td>\n",
       "      <td>1</td>\n",
       "      <td>Put those Georgia stars to shame that night</td>\n",
       "      <td>2</td>\n",
       "      <td>2006</td>\n",
       "    </tr>\n",
       "    <tr>\n",
       "      <th>2</th>\n",
       "      <td>Taylor Swift</td>\n",
       "      <td>Taylor Swift</td>\n",
       "      <td>Tim McGraw</td>\n",
       "      <td>1</td>\n",
       "      <td>I said, \"That's a lie\"</td>\n",
       "      <td>3</td>\n",
       "      <td>2006</td>\n",
       "    </tr>\n",
       "    <tr>\n",
       "      <th>3</th>\n",
       "      <td>Taylor Swift</td>\n",
       "      <td>Taylor Swift</td>\n",
       "      <td>Tim McGraw</td>\n",
       "      <td>1</td>\n",
       "      <td>Just a boy in a Chevy truck</td>\n",
       "      <td>4</td>\n",
       "      <td>2006</td>\n",
       "    </tr>\n",
       "    <tr>\n",
       "      <th>4</th>\n",
       "      <td>Taylor Swift</td>\n",
       "      <td>Taylor Swift</td>\n",
       "      <td>Tim McGraw</td>\n",
       "      <td>1</td>\n",
       "      <td>That had a tendency of gettin' stuck</td>\n",
       "      <td>5</td>\n",
       "      <td>2006</td>\n",
       "    </tr>\n",
       "  </tbody>\n",
       "</table>\n",
       "</div>"
      ],
      "text/plain": [
       "         artist         album track_title  track_n  \\\n",
       "0  Taylor Swift  Taylor Swift  Tim McGraw        1   \n",
       "1  Taylor Swift  Taylor Swift  Tim McGraw        1   \n",
       "2  Taylor Swift  Taylor Swift  Tim McGraw        1   \n",
       "3  Taylor Swift  Taylor Swift  Tim McGraw        1   \n",
       "4  Taylor Swift  Taylor Swift  Tim McGraw        1   \n",
       "\n",
       "                                         lyric  line  year  \n",
       "0          He said the way my blue eyes shined     1  2006  \n",
       "1  Put those Georgia stars to shame that night     2  2006  \n",
       "2                       I said, \"That's a lie\"     3  2006  \n",
       "3                  Just a boy in a Chevy truck     4  2006  \n",
       "4         That had a tendency of gettin' stuck     5  2006  "
      ]
     },
     "execution_count": 54,
     "metadata": {},
     "output_type": "execute_result"
    }
   ],
   "source": [
    "data = pd.read_csv(\"./data/taylor_swift_lyrics.csv\",encoding = \"latin1\")\n",
    "data.head()"
   ]
  },
  {
   "cell_type": "markdown",
   "metadata": {},
   "source": [
    "## Assess"
   ]
  },
  {
   "cell_type": "code",
   "execution_count": 43,
   "metadata": {
    "ExecuteTime": {
     "end_time": "2019-07-31T15:04:46.931905Z",
     "start_time": "2019-07-31T15:04:46.924175Z"
    }
   },
   "outputs": [
    {
     "data": {
      "text/plain": [
       "artist         0\n",
       "album          0\n",
       "track_title    0\n",
       "track_n        0\n",
       "lyric          0\n",
       "line           0\n",
       "year           0\n",
       "dtype: int64"
      ]
     },
     "execution_count": 43,
     "metadata": {},
     "output_type": "execute_result"
    }
   ],
   "source": [
    "data.isna().sum()"
   ]
  },
  {
   "cell_type": "markdown",
   "metadata": {},
   "source": [
    "## Clean"
   ]
  },
  {
   "cell_type": "markdown",
   "metadata": {},
   "source": [
    "xa0 is actually non-breaking space in Latin1 (ISO 8859-1), also chr(160). You should replace it with a space. "
   ]
  },
  {
   "cell_type": "code",
   "execution_count": 70,
   "metadata": {
    "ExecuteTime": {
     "end_time": "2019-07-31T15:40:04.380492Z",
     "start_time": "2019-07-31T15:40:04.368413Z"
    }
   },
   "outputs": [],
   "source": [
    "for column in ['artist', 'album', 'track_title', 'lyric']:\n",
    "    data[column] = data[column].apply(lambda x: x.replace(u'\\xa0', u' '))"
   ]
  },
  {
   "cell_type": "markdown",
   "metadata": {},
   "source": [
    "## Analyze"
   ]
  },
  {
   "cell_type": "code",
   "execution_count": 71,
   "metadata": {
    "ExecuteTime": {
     "end_time": "2019-07-31T15:40:07.034652Z",
     "start_time": "2019-07-31T15:40:07.030755Z"
    }
   },
   "outputs": [
    {
     "name": "stdout",
     "output_type": "stream",
     "text": [
      "We have 6 albums of Taylor Swift\n"
     ]
    }
   ],
   "source": [
    "print('We have %d albums of Taylor Swift'%len(data.album.unique()))"
   ]
  },
  {
   "cell_type": "code",
   "execution_count": 72,
   "metadata": {
    "ExecuteTime": {
     "end_time": "2019-07-31T15:40:07.303770Z",
     "start_time": "2019-07-31T15:40:07.150304Z"
    }
   },
   "outputs": [
    {
     "data": {
      "image/png": "[encoded data removed]",
      "text/plain": [
       "<Figure size 1080x216 with 1 Axes>"
      ]
     },
     "metadata": {},
     "output_type": "display_data"
    }
   ],
   "source": [
    "plt.figure(figsize=(15,3))\n",
    "data.groupby('album').track_n.max().plot.barh()\n",
    "plt.title('Number of tracks per album');"
   ]
  },
  {
   "cell_type": "code",
   "execution_count": 73,
   "metadata": {
    "ExecuteTime": {
     "end_time": "2019-07-31T15:40:08.524860Z",
     "start_time": "2019-07-31T15:40:08.396472Z"
    },
    "scrolled": true
   },
   "outputs": [
    {
     "data": {
      "image/png": "[encoded data removed]",
      "text/plain": [
       "<Figure size 1080x216 with 1 Axes>"
      ]
     },
     "metadata": {},
     "output_type": "display_data"
    }
   ],
   "source": [
    "plt.figure(figsize=(15,3))\n",
    "data.groupby('year').track_n.max().plot(marker='o')\n",
    "plt.title('Number of tracks per album over time');"
   ]
  },
  {
   "cell_type": "markdown",
   "metadata": {},
   "source": [
    "## Feature Engineering"
   ]
  },
  {
   "cell_type": "code",
   "execution_count": 74,
   "metadata": {
    "ExecuteTime": {
     "end_time": "2019-07-31T15:40:10.675359Z",
     "start_time": "2019-07-31T15:40:10.670611Z"
    }
   },
   "outputs": [
    {
     "data": {
      "text/plain": [
       "array(['Tim McGraw', 'Picture To Burn', 'Teardrops On My Guitar',\n",
       "       'A Place In This World', 'Cold as You', 'The Outside',\n",
       "       'Tied Together With A Smile', 'Stay Beautiful',\n",
       "       \"Should've Said No\", \"Mary's Song (Oh My My My)\", 'Our Song',\n",
       "       \"I'm Only Me When I'm With You\", 'Invisible',\n",
       "       'A Perfectly Good Heart', 'Fearless', 'Fifteen', 'Love Story',\n",
       "       'Hey Stephen', 'White Horse', 'You Belong With Me',\n",
       "       'Breathe (Ft. Colbie Caillat)', 'Tell Me Why', \"You're Not Sorry\",\n",
       "       'The Way I Loved You', 'Forever & Always', 'The Best Day',\n",
       "       'Change', 'Mine', 'Sparks Fly', 'Back To December', 'Speak Now',\n",
       "       'Dear John', 'Mean', 'The Story of Us', 'Never Grow Up',\n",
       "       'Enchanted', 'Better Than Revenge', 'Innocent', 'Haunted',\n",
       "       'Last Kiss', 'Long Live', 'Ours', 'If This Was a Movie',\n",
       "       'Superman', 'State of Grace', 'Red', 'Treacherous',\n",
       "       'I Knew You Were Trouble', 'All Too Well', '22', 'I Almost Do',\n",
       "       'We Are Never Ever Getting Back Together', 'Stay Stay Stay',\n",
       "       'The Last Time (Ft. Gary Lightbody)', 'Holy Ground',\n",
       "       'Sad Beautiful Tragic', 'The Lucky One',\n",
       "       'Everything Has Changed (Ft. Ed Sheeran)', 'Starlight',\n",
       "       'Begin Again', 'The Moment I Knew', 'Come Back... Be Here',\n",
       "       'Girl at Home', 'Welcome to New York', 'Blank Space', 'Style',\n",
       "       'Out of the Woods', 'All You Had to Do Was Stay', 'Shake It Off',\n",
       "       'I Wish You Would', 'Bad Blood', 'Wildest Dreams',\n",
       "       'How You Get The Girl', 'This Love', 'I Know Places', 'Clean',\n",
       "       'Wonderland', 'You Are in Love', 'New Romantics',\n",
       "       '...Ready for It?', 'End Game (Ft. Ed Sheeran & Future)',\n",
       "       'I Did Something Bad', \"Don't Blame Me\", 'Delicate',\n",
       "       'Look What You Made Me Do', 'So It Goes...', 'Gorgeous',\n",
       "       'Getaway Car', 'King of My Heart', 'Dancing With Our Hands Tied',\n",
       "       'Dress', \"This Is Why We Can't Have Nice Things\",\n",
       "       'Call It What You Want', \"New Year's Day\"], dtype=object)"
      ]
     },
     "execution_count": 74,
     "metadata": {},
     "output_type": "execute_result"
    }
   ],
   "source": [
    "data.track_title.unique()"
   ]
  },
  {
   "cell_type": "code",
   "execution_count": 75,
   "metadata": {
    "ExecuteTime": {
     "end_time": "2019-07-31T15:40:25.608316Z",
     "start_time": "2019-07-31T15:40:25.602304Z"
    }
   },
   "outputs": [],
   "source": [
    "def get_features(df):    \n",
    "    df['lyric'] = df['lyric'].apply(lambda x:str(x))\n",
    "    df['total_length'] = df['lyric'].apply(len)\n",
    "    df['capitals'] = df['lyric'].apply(lambda comment: sum(1 for c in comment if c.isupper()))\n",
    "    df['caps_vs_length'] = df.apply(lambda row: float(row['capitals'])/float(row['total_length']),\n",
    "                                axis=1)\n",
    "    df['num_words'] = df.lyric.str.count('\\S+')\n",
    "    df['num_unique_words'] = df['lyric'].apply(lambda comment: len(set(w for w in comment.split())))\n",
    "    df['words_vs_unique'] = df['num_unique_words'] / df['num_words']  \n",
    "    return df"
   ]
  },
  {
   "cell_type": "code",
   "execution_count": 76,
   "metadata": {
    "ExecuteTime": {
     "end_time": "2019-07-31T15:40:25.958472Z",
     "start_time": "2019-07-31T15:40:25.779621Z"
    }
   },
   "outputs": [],
   "source": [
    "train = get_features(data.copy())"
   ]
  },
  {
   "cell_type": "code",
   "execution_count": 77,
   "metadata": {
    "ExecuteTime": {
     "end_time": "2019-07-31T15:40:26.056642Z",
     "start_time": "2019-07-31T15:40:26.039793Z"
    }
   },
   "outputs": [
    {
     "data": {
      "text/html": [
       "<div>\n",
       "<style scoped>\n",
       "    .dataframe tbody tr th:only-of-type {\n",
       "        vertical-align: middle;\n",
       "    }\n",
       "\n",
       "    .dataframe tbody tr th {\n",
       "        vertical-align: top;\n",
       "    }\n",
       "\n",
       "    .dataframe thead th {\n",
       "        text-align: right;\n",
       "    }\n",
       "</style>\n",
       "<table border=\"1\" class=\"dataframe\">\n",
       "  <thead>\n",
       "    <tr style=\"text-align: right;\">\n",
       "      <th></th>\n",
       "      <th>artist</th>\n",
       "      <th>album</th>\n",
       "      <th>track_title</th>\n",
       "      <th>track_n</th>\n",
       "      <th>lyric</th>\n",
       "      <th>line</th>\n",
       "      <th>year</th>\n",
       "      <th>total_length</th>\n",
       "      <th>capitals</th>\n",
       "      <th>caps_vs_length</th>\n",
       "      <th>num_words</th>\n",
       "      <th>num_unique_words</th>\n",
       "      <th>words_vs_unique</th>\n",
       "    </tr>\n",
       "  </thead>\n",
       "  <tbody>\n",
       "    <tr>\n",
       "      <th>0</th>\n",
       "      <td>Taylor Swift</td>\n",
       "      <td>Taylor Swift</td>\n",
       "      <td>Tim McGraw</td>\n",
       "      <td>1</td>\n",
       "      <td>He said the way my blue eyes shined</td>\n",
       "      <td>1</td>\n",
       "      <td>2006</td>\n",
       "      <td>35</td>\n",
       "      <td>1</td>\n",
       "      <td>0.028571</td>\n",
       "      <td>8</td>\n",
       "      <td>8</td>\n",
       "      <td>1.000000</td>\n",
       "    </tr>\n",
       "    <tr>\n",
       "      <th>1</th>\n",
       "      <td>Taylor Swift</td>\n",
       "      <td>Taylor Swift</td>\n",
       "      <td>Tim McGraw</td>\n",
       "      <td>1</td>\n",
       "      <td>Put those Georgia stars to shame that night</td>\n",
       "      <td>2</td>\n",
       "      <td>2006</td>\n",
       "      <td>43</td>\n",
       "      <td>2</td>\n",
       "      <td>0.046512</td>\n",
       "      <td>8</td>\n",
       "      <td>8</td>\n",
       "      <td>1.000000</td>\n",
       "    </tr>\n",
       "    <tr>\n",
       "      <th>2</th>\n",
       "      <td>Taylor Swift</td>\n",
       "      <td>Taylor Swift</td>\n",
       "      <td>Tim McGraw</td>\n",
       "      <td>1</td>\n",
       "      <td>I said, \"That's a lie\"</td>\n",
       "      <td>3</td>\n",
       "      <td>2006</td>\n",
       "      <td>22</td>\n",
       "      <td>2</td>\n",
       "      <td>0.090909</td>\n",
       "      <td>5</td>\n",
       "      <td>5</td>\n",
       "      <td>1.000000</td>\n",
       "    </tr>\n",
       "    <tr>\n",
       "      <th>3</th>\n",
       "      <td>Taylor Swift</td>\n",
       "      <td>Taylor Swift</td>\n",
       "      <td>Tim McGraw</td>\n",
       "      <td>1</td>\n",
       "      <td>Just a boy in a Chevy truck</td>\n",
       "      <td>4</td>\n",
       "      <td>2006</td>\n",
       "      <td>27</td>\n",
       "      <td>2</td>\n",
       "      <td>0.074074</td>\n",
       "      <td>7</td>\n",
       "      <td>6</td>\n",
       "      <td>0.857143</td>\n",
       "    </tr>\n",
       "    <tr>\n",
       "      <th>4</th>\n",
       "      <td>Taylor Swift</td>\n",
       "      <td>Taylor Swift</td>\n",
       "      <td>Tim McGraw</td>\n",
       "      <td>1</td>\n",
       "      <td>That had a tendency of gettin' stuck</td>\n",
       "      <td>5</td>\n",
       "      <td>2006</td>\n",
       "      <td>36</td>\n",
       "      <td>1</td>\n",
       "      <td>0.027778</td>\n",
       "      <td>7</td>\n",
       "      <td>7</td>\n",
       "      <td>1.000000</td>\n",
       "    </tr>\n",
       "  </tbody>\n",
       "</table>\n",
       "</div>"
      ],
      "text/plain": [
       "         artist         album track_title  track_n  \\\n",
       "0  Taylor Swift  Taylor Swift  Tim McGraw        1   \n",
       "1  Taylor Swift  Taylor Swift  Tim McGraw        1   \n",
       "2  Taylor Swift  Taylor Swift  Tim McGraw        1   \n",
       "3  Taylor Swift  Taylor Swift  Tim McGraw        1   \n",
       "4  Taylor Swift  Taylor Swift  Tim McGraw        1   \n",
       "\n",
       "                                         lyric  line  year  total_length  \\\n",
       "0          He said the way my blue eyes shined     1  2006            35   \n",
       "1  Put those Georgia stars to shame that night     2  2006            43   \n",
       "2                       I said, \"That's a lie\"     3  2006            22   \n",
       "3                  Just a boy in a Chevy truck     4  2006            27   \n",
       "4         That had a tendency of gettin' stuck     5  2006            36   \n",
       "\n",
       "   capitals  caps_vs_length  num_words  num_unique_words  words_vs_unique  \n",
       "0         1        0.028571          8                 8         1.000000  \n",
       "1         2        0.046512          8                 8         1.000000  \n",
       "2         2        0.090909          5                 5         1.000000  \n",
       "3         2        0.074074          7                 6         0.857143  \n",
       "4         1        0.027778          7                 7         1.000000  "
      ]
     },
     "execution_count": 77,
     "metadata": {},
     "output_type": "execute_result"
    }
   ],
   "source": [
    "train.head()"
   ]
  },
  {
   "cell_type": "markdown",
   "metadata": {},
   "source": [
    "## Model"
   ]
  },
  {
   "cell_type": "markdown",
   "metadata": {},
   "source": [
    "## Visualize"
   ]
  },
  {
   "cell_type": "code",
   "execution_count": null,
   "metadata": {},
   "outputs": [],
   "source": []
  }
 ],
 "metadata": {
  "kernelspec": {
   "display_name": "Python 3",
   "language": "python",
   "name": "python3"
  },
  "language_info": {
   "codemirror_mode": {
    "name": "ipython",
    "version": 3
   },
   "file_extension": ".py",
   "mimetype": "text/x-python",
   "name": "python",
   "nbconvert_exporter": "python",
   "pygments_lexer": "ipython3",
   "version": "3.6.8"
  },
  "latex_envs": {
   "LaTeX_envs_menu_present": true,
   "autoclose": false,
   "autocomplete": true,
   "bibliofile": "biblio.bib",
   "cite_by": "apalike",
   "current_citInitial": 1,
   "eqLabelWithNumbers": true,
   "eqNumInitial": 1,
   "hotkeys": {
    "equation": "Ctrl-E",
    "itemize": "Ctrl-I"
   },
   "labels_anchors": false,
   "latex_user_defs": false,
   "report_style_numbering": false,
   "user_envs_cfg": false
  },
  "toc": {
   "nav_menu": {},
   "number_sections": false,
   "sideBar": true,
   "skip_h1_title": false,
   "title_cell": "Table of Contents",
   "title_sidebar": "Contents",
   "toc_cell": true,
   "toc_position": {},
   "toc_section_display": true,
   "toc_window_display": false
  },
  "varInspector": {
   "cols": {
    "lenName": 16,
    "lenType": 16,
    "lenVar": 40
   },
   "kernels_config": {
    "python": {
     "delete_cmd_postfix": "",
     "delete_cmd_prefix": "del ",
     "library": "var_list.py",
     "varRefreshCmd": "print(var_dic_list())"
    },
    "r": {
     "delete_cmd_postfix": ") ",
     "delete_cmd_prefix": "rm(",
     "library": "var_list.r",
     "varRefreshCmd": "cat(var_dic_list()) "
    }
   },
   "types_to_exclude": [
    "module",
    "function",
    "builtin_function_or_method",
    "instance",
    "_Feature"
   ],
   "window_display": false
  }
 },
 "nbformat": 4,
 "nbformat_minor": 2
}
